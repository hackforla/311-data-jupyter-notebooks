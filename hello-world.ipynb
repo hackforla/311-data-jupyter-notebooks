{
 "cells": [
  {
   "cell_type": "code",
   "execution_count": 7,
   "metadata": {},
   "outputs": [],
   "source": [
    "import mercury as mr \n",
    "import random \n",
    "from matplotlib import pyplot as plt "
   ]
  },
  {
   "cell_type": "code",
   "execution_count": 8,
   "metadata": {},
   "outputs": [
    {
     "data": {
      "application/mercury+json": {
       "allow_download": true,
       "code_uid": "App.0.40.24.1-randaba52623",
       "continuous_update": true,
       "description": "Sample app in Mercury",
       "full_screen": true,
       "model_id": "mercury-app",
       "notify": "{}",
       "output": "app",
       "schedule": "",
       "show_code": false,
       "show_prompt": false,
       "show_sidebar": true,
       "static_notebook": false,
       "title": "Hello in Mercury!",
       "widget": "App"
      },
      "text/html": [
       "<h3>Mercury Application</h3><small>This output won't appear in the web app.</small>"
      ],
      "text/plain": [
       "mercury.App"
      ]
     },
     "metadata": {},
     "output_type": "display_data"
    }
   ],
   "source": [
    "app = mr.App(title=\"Hello in Mercury!\", description=\"Sample app in Mercury\")"
   ]
  },
  {
   "attachments": {},
   "cell_type": "markdown",
   "metadata": {},
   "source": [
    "# Hello in Mercury!"
   ]
  },
  {
   "cell_type": "code",
   "execution_count": 9,
   "metadata": {},
   "outputs": [
    {
     "data": {
      "application/mercury+json": {
       "code_uid": "Text.0.40.15.1-randacd041bc",
       "disabled": false,
       "hidden": false,
       "label": "What is your name?",
       "model_id": "e60859103eb24dd194aa3f949f10156c",
       "rows": 1,
       "url_key": "",
       "value": "Piotr",
       "widget": "Text"
      },
      "application/vnd.jupyter.widget-view+json": {
       "model_id": "e60859103eb24dd194aa3f949f10156c",
       "version_major": 2,
       "version_minor": 0
      },
      "text/plain": [
       "mercury.Text"
      ]
     },
     "metadata": {},
     "output_type": "display_data"
    },
    {
     "data": {
      "application/mercury+json": {
       "code_uid": "Slider.0.40.26.2-rand893f2dd1",
       "disabled": false,
       "hidden": false,
       "label": "Number of points",
       "max": 100,
       "min": 50,
       "model_id": "3c723c4392ff496ba9da0ffcd839a314",
       "step": 1,
       "url_key": "",
       "value": 75,
       "widget": "Slider"
      },
      "application/vnd.jupyter.widget-view+json": {
       "model_id": "3c723c4392ff496ba9da0ffcd839a314",
       "version_major": 2,
       "version_minor": 0
      },
      "text/plain": [
       "mercury.Slider"
      ]
     },
     "metadata": {},
     "output_type": "display_data"
    },
    {
     "data": {
      "application/mercury+json": {
       "choices": [
        "red",
        "green",
        "blue"
       ],
       "code_uid": "Select.0.40.16.3-rand89f0d656",
       "disabled": false,
       "hidden": false,
       "label": "Select color",
       "model_id": "d67a6e56aca7440d86b6bcfe749d64cd",
       "url_key": "",
       "value": "blue",
       "widget": "Select"
      },
      "application/vnd.jupyter.widget-view+json": {
       "model_id": "d67a6e56aca7440d86b6bcfe749d64cd",
       "version_major": 2,
       "version_minor": 0
      },
      "text/plain": [
       "mercury.Select"
      ]
     },
     "metadata": {},
     "output_type": "display_data"
    }
   ],
   "source": [
    "name = mr.Text(label=\"What is your name?\", value=\"Piotr\")\n",
    "points = mr.Slider(label=\"Number of points\", value=75, min=50, max=100)\n",
    "color = mr.Select(label=\"Select color\", value=\"blue\", choices=[\"red\", \"green\", \"blue\"])"
   ]
  },
  {
   "cell_type": "code",
   "execution_count": 10,
   "metadata": {},
   "outputs": [
    {
     "data": {
      "text/markdown": [
       "## How are you Piotr?\n",
       "You can mix Python code and Markdown."
      ],
      "text/plain": [
       "<IPython.core.display.Markdown object>"
      ]
     },
     "metadata": {},
     "output_type": "display_data"
    }
   ],
   "source": [
    "mr.Md(f\"\"\"## How are you {name.value}?\n",
    "You can mix Python code and Markdown.\"\"\")"
   ]
  },
  {
   "cell_type": "code",
   "execution_count": 11,
   "metadata": {},
   "outputs": [
    {
     "data": {
      "image/png": "[encoded data removed]",
      "text/plain": [
       "<Figure size 640x480 with 1 Axes>"
      ]
     },
     "metadata": {},
     "output_type": "display_data"
    }
   ],
   "source": [
    "x = [random.gauss(0,1) for _ in range(points.value)]\n",
    "y = [random.gauss(0,1) for _ in range(points.value)]\n",
    "_ = plt.plot(x,y, '*', markersize=14, color=color.value)\n",
    "_ = plt.title(f\"Plot for {name.value}\")"
   ]
  }
 ],
 "metadata": {
  "kernelspec": {
   "display_name": "Python 3",
   "language": "python",
   "name": "python3"
  },
  "language_info": {
   "codemirror_mode": {
    "name": "ipython",
    "version": 3
   },
   "file_extension": ".py",
   "mimetype": "text/x-python",
   "name": "python",
   "nbconvert_exporter": "python",
   "pygments_lexer": "ipython3",
   "version": "3.10.10"
  },
  "orig_nbformat": 4
 },
 "nbformat": 4,
 "nbformat_minor": 2
}
