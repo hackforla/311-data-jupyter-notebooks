{
 "cells": [
  {
   "cell_type": "markdown",
   "id": "b3f65b67",
   "metadata": {},
   "source": [
    "MYLA311 Service request data can be downloaded in csv format straight from the *data.lacity.org* website.\n",
    "\n",
    "Yearly files are are 500MB and can be dissected into smaller monthly files with the below code.\n"
    "\n",
    "Instruction: Open this python in a jupyter notebook or whichever python serice houses your csv files. Replace the 'MyLA311_Service_Request_Data_2021.csv' with whichever yearly file you wish to split. Run and ignore errors.\n"
   ]
  },
  {
   "cell_type": "code",
   "execution_count": 5,
   "id": "73488c30",
   "metadata": {},
   "outputs": [
    {
     "ename": "AttributeError",
     "evalue": "'_csv.writer' object has no attribute 'close'",
     "output_type": "error",
     "traceback": [
      "\u001b[1;31m---------------------------------------------------------------------------\u001b[0m",
      "\u001b[1;31mAttributeError\u001b[0m                            Traceback (most recent call last)",
      "\u001b[1;32m~\\AppData\\Local\\Temp\\ipykernel_76924\\2361137513.py\u001b[0m in \u001b[0;36m<module>\u001b[1;34m\u001b[0m\n\u001b[0;32m     29\u001b[0m \u001b[1;31m# Close all the CSV files\u001b[0m\u001b[1;33m\u001b[0m\u001b[1;33m\u001b[0m\u001b[0m\n\u001b[0;32m     30\u001b[0m \u001b[1;32mfor\u001b[0m \u001b[0myear_month\u001b[0m \u001b[1;32min\u001b[0m \u001b[0mcsv_writers\u001b[0m\u001b[1;33m:\u001b[0m\u001b[1;33m\u001b[0m\u001b[1;33m\u001b[0m\u001b[0m\n\u001b[1;32m---> 31\u001b[1;33m     \u001b[0mcsv_writers\u001b[0m\u001b[1;33m[\u001b[0m\u001b[0myear_month\u001b[0m\u001b[1;33m]\u001b[0m\u001b[1;33m.\u001b[0m\u001b[0mclose\u001b[0m\u001b[1;33m(\u001b[0m\u001b[1;33m)\u001b[0m\u001b[1;33m\u001b[0m\u001b[1;33m\u001b[0m\u001b[0m\n\u001b[0m\u001b[0;32m     32\u001b[0m \u001b[1;33m\u001b[0m\u001b[0m\n\u001b[0;32m     33\u001b[0m \u001b[1;31m# Ignore AttributeError in output, files are generated\u001b[0m\u001b[1;33m\u001b[0m\u001b[1;33m\u001b[0m\u001b[0m\n",
      "\u001b[1;31mAttributeError\u001b[0m: '_csv.writer' object has no attribute 'close'"
     ]
    }
   ],
   "source": [
    "import csv\n",
    "import re\n",
    "from datetime import datetime\n",
    "\n",
    "# Open the original CSV file\n",
    "with open('MyLA311_Service_Request_Data_2021.csv', 'r', encoding='utf-8-sig') as file:\n",
    "    reader = csv.DictReader(file)\n",
    "    rows = list(reader)\n",
    "\n",
    "# Create a dictionary to hold the CSV writers for each month\n",
    "csv_writers = {}\n",
    "for row in rows:\n",
    "    created_date = row['CreatedDate']\n",
    "    match = re.search(r'\\d{2}/\\d{2}/\\d{4}', created_date)  # Extract date using regular expression pattern\n",
    "    if match:\n",
    "        date_string = match.group()\n",
    "        date_obj = datetime.strptime(date_string, '%m/%d/%Y')  # Convert string to datetime object\n",
    "        month = date_obj.month\n",
    "        year = date_obj.year\n",
    "        filename = f'{year}_{month}.csv'\n",
    "\n",
    "        if (year, month) not in csv_writers:\n",
    "            csvfile = open(filename, 'w', newline='', encoding='utf-8-sig')\n",
    "            csv_writers[(year, month)] = csv.writer(csvfile)\n",
    "            csv_writers[(year, month)].writerow(reader.fieldnames)  # Write the header row\n",
    "\n",
    "        csv_writers[(year, month)].writerow(row.values())\n",
    "\n",
    "# Close all the CSV files\n",
    "for year_month in csv_writers:\n",
    "    csv_writers[year_month].close()\n",
    "    \n",
    "# Ignore AttributeError in output, files are generated"
   ]
  },
  {
   "cell_type": "markdown",
   "id": "416be42b",
   "metadata": {},
   "source": [
    "#### Explanation of code:\n",
    "\n",
    "1. Import the necessary modules: `csv`, `re` for regular expressions, and `datetime` for working with dates.\n",
    "\n",
    "2. Open the original CSV file using the `open()` function with the `'r'` mode and create a `DictReader` object called `reader` to read the contents of the file. The `reader` treats the first row of the file as the header row and allows us to access the data using the column names.\n",
    "\n",
    "3. Convert the `reader` object to a list called `rows` to store all the rows from the original CSV file. This allows us to iterate through the rows multiple times later.\n",
    "\n",
    "4. Create an empty dictionary called `csv_writers` to hold the `csv.writer` objects for each month.\n",
    "\n",
    "5. Iterate through each row in the `rows` list.\n",
    "\n",
    "6. For each row, we extract the value in the \"CreatedDate\" column using `row['CreatedDate']`.\n",
    "\n",
    "7. Use the `re.search()` function to find the first occurrence of a date pattern (`\\d{2}/\\d{2}/\\d{4}`) in the \"CreatedDate\" string. This pattern represents two digits for the month, followed by two digits for the day, and four digits for the year.\n",
    "\n",
    "8. If a match is found, extract the matched date string using `match.group()` and assign it to the variable `date_string`.\n",
    "\n",
    "9. Use `datetime.strptime()` to convert the `date_string` to a `datetime` object. The `%m/%d/%Y` format is used to specify the expected format of the date string.\n",
    "\n",
    "10. Extract the month and year from the `datetime` object using the `month` and `year` attributes.\n",
    "\n",
    "11. Construct the file name using the extracted `year` and `month` values in the format `{year}_{month}.csv`.\n",
    "\n",
    "12. Check if a writer for the same `year` and `month` combination already exists in the `csv_writers` dictionary. If not, we create a new CSV file with the corresponding file name, open it in write mode using the `open()` function with the `'w'` mode, and create a `csv.writer` object.\n",
    "\n",
    "13. Write the header row to the CSV file using the `writerow()` method of the `csv.writer` object. The header row is obtained from the `reader.fieldnames` attribute, which contains the column names from the original CSV file.\n",
    "\n",
    "14. Retrieve the existing or newly created `csv.writer` object for the `year` and `month` combination from the `csv_writers` dictionary.\n",
    "\n",
    "15. Write the row values to the corresponding CSV file using the `writerow()` method of the `csv.writer` object.\n",
    "\n",
    "16. After processing all rows, close all the CSV files by iterating through the `csv_writers` dictionary and calling the `close()` method on each writer.\n",
    "\n",
    "The result is that the original CSV file is split into separate CSV files based on the month and year extracted from the \"CreatedDate\" column, while ignoring the day. Each resulting CSV file is named according to the corresponding month and year."
   ]
  },
  {
   "cell_type": "code",
   "execution_count": null,
   "id": "00a26d8c",
   "metadata": {},
   "outputs": [],
   "source": []
  }
 ],
 "metadata": {
  "kernelspec": {
   "display_name": "Python 3 (ipykernel)",
   "language": "python",
   "name": "python3"
  },
  "language_info": {
   "codemirror_mode": {
    "name": "ipython",
    "version": 3
   },
   "file_extension": ".py",
   "mimetype": "text/x-python",
   "name": "python",
   "nbconvert_exporter": "python",
   "pygments_lexer": "ipython3",
   "version": "3.9.13"
  }
 },
 "nbformat": 4,
 "nbformat_minor": 5
}
