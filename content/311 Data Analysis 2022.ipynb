{
 "cells": [
  {
   "cell_type": "markdown",
   "id": "28800821",
   "metadata": {},
   "source": [
    "### LA 311 Data Analysis - 2022"
   ]
  },
  {
   "cell_type": "code",
   "execution_count": null,
   "id": "0b21232a",
   "metadata": {},
   "outputs": [],
   "source": [
    "# Import Plugins\n",
    "import pandas as pd\n",
    "import numpy as np\n",
    "import pyarrow.parquet as pq\n",
    "import seaborn as sns\n",
    "import matplotlib.pyplot as plt\n",
    "import folium\n",
    "import folium.plugins as plugins"
   ]
  },
  {
   "cell_type": "markdown",
   "id": "1080bfc6",
   "metadata": {},
   "source": [
    "#### Append monthly parquet data files into full year database"
   ]
  },
  {
   "cell_type": "code",
   "execution_count": null,
   "id": "0a1c5058",
   "metadata": {},
   "outputs": [],
   "source": [
    "# List of file paths for each month\n",
    "file_paths = [\n",
    "    '2022_1.parquet',\n",
    "    '2022_2.parquet',\n",
    "    '2022_3.parquet',\n",
    "    '2022_4.parquet',\n",
    "    '2022_5.parquet',\n",
    "    '2022_6.parquet',\n",
    "    '2022_7.parquet',\n",
    "    '2022_8.parquet',\n",
    "    '2022_9.parquet',\n",
    "    '2022_10.parquet',\n",
    "    '2022_11.parquet',\n",
    "    '2022_12.parquet'\n",
    "]\n",
    "\n",
    "# Create an empty DataFrame to store the combined data\n",
    "df = pd.DataFrame()\n",
    "\n",
    "# Iterate over the file paths and append the data\n",
    "for file_path in file_paths:\n",
    "    # Read the Parquet file for each month\n",
    "    data = pq.read_table(file_path).to_pandas()\n",
    "    \n",
    "    # Convert 'ZipCode' column to string type\n",
    "    data['ZipCode'] = data['ZipCode'].astype(str)\n",
    "    \n",
    "    # Append the data to the combined DataFrame\n",
    "    df = pd.concat([df, data], ignore_index=True)\n",
    "\n",
    "# Save the combined data as a new Parquet file representing a full year\n",
    "df.to_parquet('2022FY.parquet', engine='pyarrow')"
   ]
  },
  {
   "cell_type": "markdown",
   "id": "e9901592",
   "metadata": {},
   "source": [
    "#### 311 Data by Request Type - 2022"
   ]
  },
  {
   "cell_type": "code",
   "execution_count": null,
   "id": "c5229cca",
   "metadata": {},
   "outputs": [],
   "source": [
    "# Read Parquet file into DataFrame\n",
    "df = pd.read_parquet('2022FY.parquet')\n",
    "\n",
    "# Set the seaborn style\n",
    "sns.set(style=\"whitegrid\")\n",
    "\n",
    "# Get the value counts and sort them\n",
    "RT_counts = df['RequestType'].value_counts().sort_values(ascending=False)\n",
    "\n",
    "# Plot the bar chart\n",
    "ax = sns.countplot(x='RequestType', data=df, order=RT_counts.index)\n",
    "\n",
    "# Rotate x-axis labels\n",
    "ax.set_xticklabels(ax.get_xticklabels(), rotation=45, ha='right')\n",
    "\n",
    "# Add labels and title\n",
    "plt.xlabel('Request Type')\n",
    "plt.ylabel('Count of 311 Requests')\n",
    "plt.title('311 Data by Request Type 2022')\n",
    "\n",
    "# Show the plot\n",
    "plt.show()"
   ]
  },
  {
   "cell_type": "markdown",
   "id": "9c0a3e34",
   "metadata": {},
   "source": [
    "#### 311 Data by LA Neighboorhood Council Name - 2022"
   ]
  },
  {
   "cell_type": "code",
   "execution_count": null,
   "id": "99bac324",
   "metadata": {},
   "outputs": [],
   "source": [
    "# Read Parquet file into DataFrame\n",
    "df = pd.read_parquet('2022FY.parquet')\n",
    "\n",
    "# Set the seaborn style\n",
    "sns.set(style=\"white\")\n",
    "\n",
    "# Get the value counts and sort them\n",
    "NC_counts = df['NCName'].value_counts().sort_values(ascending=False)\n",
    "\n",
    "# Set the figure size\n",
    "plt.figure(figsize=(24, 8))\n",
    "\n",
    "# Plot the bar chart\n",
    "ax = sns.countplot(x='NCName', data=df, order=NC_counts.index, color='steelblue')\n",
    "\n",
    "# Rotate x-axis labels\n",
    "ax.set_xticklabels(ax.get_xticklabels(), rotation=90, ha='right')\n",
    "\n",
    "# Add labels and title\n",
    "plt.xlabel('Neighborhood Council Name')\n",
    "plt.ylabel('Count of 311 Requests')\n",
    "plt.title('311 Data by LA Neighboorhood Council Name 2022')\n",
    "\n",
    "# Show the plot\n",
    "plt.show()"
   ]
  },
  {
   "cell_type": "markdown",
   "id": "33c538ba",
   "metadata": {},
   "source": [
    "#### 311 Data Heatmapping - 2022"
   ]
  },
  {
   "cell_type": "code",
   "execution_count": null,
   "id": "3ede6eb5-8b8f-477f-87f3-cf6bf4209815",
   "metadata": {
    "scrolled": true
   },
   "outputs": [],
   "source": [
    "# Load the data from excel into a pandas dataframe\n",
    "df = pd.read_parquet('2022FY.parquet')\n",
    "\n",
    "# Remove NaN values from latitude and longitude\n",
    "remove_nan = ['Latitude', 'Longitude']\n",
    "df_LL = df.dropna(subset=remove_nan)\n",
    "\n",
    "# Create a map centered on the mean latitude and longitude\n",
    "map_center = [df_LL['Latitude'].mean(), df_LL['Longitude'].mean()]\n",
    "m = folium.Map(location=map_center, zoom_start=16)\n",
    "\n",
    "# Create a list of latitude-longitude pairs\n",
    "locations = df_LL[['Latitude', 'Longitude']].values.tolist()\n",
    "\n",
    "# Add the heatmap layer to the map\n",
    "heat_map = folium.plugins.HeatMap(locations)\n",
    "heat_map.add_to(m)\n",
    "\n",
    "# Display the map\n",
    "m"
   ]
  },
  {
   "cell_type": "code",
   "execution_count": null,
   "id": "a8b73b00-810a-4a68-8323-984ac6fd51b3",
   "metadata": {},
   "outputs": [],
   "source": []
  }
 ],
 "metadata": {
  "kernelspec": {
   "display_name": "Python 3 (ipykernel)",
   "language": "python",
   "name": "python3"
  },
  "language_info": {
   "codemirror_mode": {
    "name": "ipython",
    "version": 3
   },
   "file_extension": ".py",
   "mimetype": "text/x-python",
   "name": "python",
   "nbconvert_exporter": "python",
   "pygments_lexer": "ipython3",
   "version": "3.9.13"
  }
 },
 "nbformat": 4,
 "nbformat_minor": 5
}
